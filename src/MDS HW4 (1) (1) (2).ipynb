{
 "cells": [
  {
   "cell_type": "markdown",
   "metadata": {},
   "source": [
    "a) Create Recipe class\n",
    "\n",
    "Create a class called Recipe. Initialize it with a\n",
    "\n",
    "name: the name of the recipe\n",
    "ingredients: a dictionary of ingredients contained in the recipe and their amounts (in grams)\n",
    "meal: a string that indicates when this would be good to be eaten, e.g. lunch, snack etc.\n",
    "time: the time it takes to prepare the recipe."
   ]
  },
  {
   "cell_type": "code",
   "execution_count": null,
   "metadata": {},
   "outputs": [],
   "source": [
    "#This is an interesting project."
   ]
  },
  {
   "cell_type": "code",
   "execution_count": null,
   "metadata": {},
   "outputs": [],
   "source": [
    "class Recipe():\n",
    "    def __init__(self, name=\"\", ingredients={}, meal=\"\", time=40):\n",
    "        self.name = name\n",
    "        self.time = times\n",
    "        self.ingredients = {\n",
    "                \"eggs\":\"5\",\n",
    "                \"butter\":\"20\",\n",
    "                \"flour\":\"60\",\n",
    "                \"cheddar\":\"45\",\n",
    "                \"banana\":\"100\",\n",
    "                \"chocolate\":\"55\",\n",
    "                \"spinach\":\"150\"                \n",
    "            }        \n",
    "        self.meal = meal"
   ]
  },
  {
   "cell_type": "code",
   "execution_count": 1,
   "metadata": {},
   "outputs": [],
   "source": [
    "class Recipe():\n",
    "    def __init__(self, name=\"\", ingredients={}, meal=\"\", time=40):\n",
    "        self.name = name\n",
    "        self.time = times\n",
    "        self.ingredients = {\n",
    "                \"eggs\":\"5\",\n",
    "                \"butter\":\"20\",\n",
    "                \"flour\":\"60\",\n",
    "                \"cheddar\":\"45\",\n",
    "                \"banana\":\"100\",\n",
    "                \"chocolate\":\"55\",\n",
    "                \"spinach\":\"150\"                \n",
    "            }        \n",
    "        self.meal = meal"
   ]
  },
  {
   "cell_type": "markdown",
   "metadata": {},
   "source": [
    "b) Add method and recipes\n",
    "\n",
    "Add a method to Recipe that prints the name of the recipe, the time it takes to prepare, and the type of meal.\n",
    "\n",
    "Initialize five recipes of your choice, two for dinner and three for dessert (these can be simple and don't need to be real recipes). Print the initialized objects."
   ]
  },
  {
   "cell_type": "code",
   "execution_count": 2,
   "metadata": {},
   "outputs": [],
   "source": [
    "class Recipe():\n",
    "    def __init__(self, name=\"\", ingredients={}, meal=\"\", time=40):\n",
    "        # Consider these all attributes\n",
    "        self.name = name\n",
    "        self.time = time\n",
    "        self.ingredients = {\n",
    "                \"eggs\":\"5\",\n",
    "                \"butter\":\"20\",\n",
    "                \"flour\":\"60\",\n",
    "                \"cheddar\":\"45\",\n",
    "                \"banana\":\"100\",\n",
    "                \"chocolate\":\"55\",\n",
    "                \"spinach\":\"150\",\n",
    "                \"bread\":\"80\"\n",
    "            }        \n",
    "        self.meal = meal\n",
    "    # method\n",
    "    def __str__(self):\n",
    "        return  self.name + \" , \" + self.meal + \" , \" + str(self.time)\n",
    " "
   ]
  },
  {
   "cell_type": "code",
   "execution_count": 3,
   "metadata": {},
   "outputs": [
    {
     "name": "stdout",
     "output_type": "stream",
     "text": [
      "omelette , dinner , 10\n"
     ]
    }
   ],
   "source": [
    "Recipe1 = Recipe(\"omelette\",[\"eggs\",\"spinach\",\"cheddar\"],\"dinner\", 10)\n",
    "print(Recipe1)"
   ]
  },
  {
   "cell_type": "code",
   "execution_count": 4,
   "metadata": {},
   "outputs": [
    {
     "name": "stdout",
     "output_type": "stream",
     "text": [
      "sandwich , dinner , 5\n"
     ]
    }
   ],
   "source": [
    "Recipe2 = Recipe(\"sandwich\",[\"bread\",\"cheddar\"],\"dinner\", 5)\n",
    "print(Recipe2)"
   ]
  },
  {
   "cell_type": "code",
   "execution_count": 5,
   "metadata": {},
   "outputs": [
    {
     "name": "stdout",
     "output_type": "stream",
     "text": [
      "cake , dessert , 45\n"
     ]
    }
   ],
   "source": [
    "Recipe3 = Recipe(\"cake\",[\"flour\",\"butter\",\"sugar\"],\"dessert\", 45)\n",
    "print(Recipe3)"
   ]
  },
  {
   "cell_type": "code",
   "execution_count": 6,
   "metadata": {},
   "outputs": [
    {
     "name": "stdout",
     "output_type": "stream",
     "text": [
      "frosting , dessert , 20\n"
     ]
    }
   ],
   "source": [
    "Recipe4 = Recipe(\"frosting\",[\"sugar\",\"butter\"],\"dessert\", 20)\n",
    "print(Recipe4)"
   ]
  },
  {
   "cell_type": "code",
   "execution_count": 7,
   "metadata": {},
   "outputs": [
    {
     "name": "stdout",
     "output_type": "stream",
     "text": [
      "chocolate covered banana , dessert , 10\n"
     ]
    }
   ],
   "source": [
    "Recipe5 = Recipe(\"chocolate covered banana\",[\"chocolate\",\"banana\"],\"dessert\", 10)\n",
    "print(Recipe5)"
   ]
  },
  {
   "cell_type": "markdown",
   "metadata": {},
   "source": [
    "### CALLING UPON A DICTIONARY\n",
    "\n",
    "c) Total weight\n",
    "\n",
    "Add a method that provides the total weight of all ingredients combined. Call that method for one specific recipe."
   ]
  },
  {
   "cell_type": "code",
   "execution_count": 8,
   "metadata": {},
   "outputs": [],
   "source": [
    "class Recipe():\n",
    "    def __init__(self, name=\"\", chosen_ingredients=None, meal=\"\", time=40):\n",
    "        # Consider these all attributes\n",
    "        self.name = name\n",
    "        self.time = time\n",
    "        self.chosen_ingredients = chosen_ingredients\n",
    "        self.ingredients = {\n",
    "                \"eggs\":\"5\",\n",
    "                \"butter\":\"20\",\n",
    "                \"flour\":\"60\",\n",
    "                \"cheddar\":\"45\",\n",
    "                \"banana\":\"100\",\n",
    "                \"chocolate\":\"55\",\n",
    "                \"spinach\":\"150\",\n",
    "                \"bread\":\"80\"\n",
    "            }        \n",
    "        self.meal = meal\n",
    "    \n",
    "    def __str__(self):\n",
    "        return  self.name + \" , \" + self.meal + \" , \" + str(self.time)\n",
    " \n",
    "    def total_weight(self, Recipe, chosen_ingredients=None):\n",
    "        if self.chosen_ingredients:\n",
    "            total = 0\n",
    "            for k, v in Recipe.ingredients.items():\n",
    "\n",
    "                if k in self.chosen_ingredients:\n",
    "                    total += float(v)\n",
    "        else:\n",
    "            total = 0\n",
    "            for k, v in Recipe.ingredients.items():\n",
    "\n",
    "                total += float(v)\n",
    "        \n",
    "        return total"
   ]
  },
  {
   "cell_type": "code",
   "execution_count": 12,
   "metadata": {},
   "outputs": [
    {
     "data": {
      "text/plain": [
       "125.0"
      ]
     },
     "execution_count": 12,
     "metadata": {},
     "output_type": "execute_result"
    }
   ],
   "source": [
    "Recipe2 = Recipe(\"sandwich\",[\"bread\",\"cheddar\"],\"dinner\", 5)\n",
    "total = Recipe2.total_weight(Recipe2)\n",
    "total"
   ]
  },
  {
   "cell_type": "markdown",
   "metadata": {},
   "source": [
    "a) Create Cookbook class\n",
    "\n",
    "Now create a Cookbook class that will contain a list of Recipe objects."
   ]
  },
  {
   "cell_type": "markdown",
   "metadata": {},
   "source": [
    "b) Meal type method\n",
    "\n",
    "Create a get_meal_type() method which has a meal_type parameter and returns a list of all recipes fitting the specified meal type."
   ]
  },
  {
   "cell_type": "code",
   "execution_count": 85,
   "metadata": {},
   "outputs": [],
   "source": [
    "class Cookbook:\n",
    "    \"\"\" Class to hold list of Student objects \"\"\"\n",
    "    def __init__(self):\n",
    "        self.sList = []\n",
    "\n",
    "    def add(self, recipe):\n",
    "        self.sList.append(recipe)\n",
    "\n",
    "    def __str__(self):\n",
    "        temp = \"\"\n",
    "        for student in self.sList:\n",
    "            temp = temp + str(student) + \"\\n\"\n",
    "        return temp\n",
    "    \n",
    "    def get_meal_type(self, meal_type=\"dessert\"):\n",
    "        if recipe.type == meal_type:\n",
    "            return recipe\n",
    "        else:\n",
    "            return \"error\"\n",
    "        "
   ]
  },
  {
   "cell_type": "code",
   "execution_count": 86,
   "metadata": {},
   "outputs": [
    {
     "name": "stdout",
     "output_type": "stream",
     "text": [
      "omelette , dinner , 10\n",
      "sandwich , dinner , 5\n",
      "cake , dessert , 45\n",
      "frosting , dessert , 20\n",
      "chocolate covered banana , dessert , 10\n",
      "\n"
     ]
    }
   ],
   "source": [
    "mylist = StudentList()\n",
    "mylist.add(Recipe1)\n",
    "mylist.add(Recipe2)\n",
    "mylist.add(Recipe3)\n",
    "mylist.add(Recipe4)\n",
    "mylist.add(Recipe5)\n",
    "\n",
    "print(mylist)"
   ]
  },
  {
   "cell_type": "code",
   "execution_count": 88,
   "metadata": {},
   "outputs": [
    {
     "ename": "TypeError",
     "evalue": "'StudentList' object is not subscriptable",
     "output_type": "error",
     "traceback": [
      "\u001b[0;31m---------------------------------------------------------------------------\u001b[0m",
      "\u001b[0;31mTypeError\u001b[0m                                 Traceback (most recent call last)",
      "\u001b[0;32m<ipython-input-88-88d08ea756c8>\u001b[0m in \u001b[0;36m<module>\u001b[0;34m\u001b[0m\n\u001b[0;32m----> 1\u001b[0;31m \u001b[0mC1\u001b[0m \u001b[0;34m=\u001b[0m \u001b[0mCookbook\u001b[0m\u001b[0;34m(\u001b[0m\u001b[0mmylist\u001b[0m\u001b[0;34m[\u001b[0m\u001b[0;34m'Recipe1'\u001b[0m\u001b[0;34m]\u001b[0m\u001b[0;34m,\u001b[0m\u001b[0;34m\"dessert\"\u001b[0m\u001b[0;34m)\u001b[0m\u001b[0;34m\u001b[0m\u001b[0;34m\u001b[0m\u001b[0m\n\u001b[0m",
      "\u001b[0;31mTypeError\u001b[0m: 'StudentList' object is not subscriptable"
     ]
    }
   ],
   "source": [
    "C1 = Cookbook(mylist['Recipe1'],\"dessert\")"
   ]
  },
  {
   "cell_type": "code",
   "execution_count": 53,
   "metadata": {},
   "outputs": [
    {
     "ename": "TypeError",
     "evalue": "__init__() takes 1 positional argument but 2 were given",
     "output_type": "error",
     "traceback": [
      "\u001b[0;31m---------------------------------------------------------------------------\u001b[0m",
      "\u001b[0;31mTypeError\u001b[0m                                 Traceback (most recent call last)",
      "\u001b[0;32m<ipython-input-53-7aa893977fa9>\u001b[0m in \u001b[0;36m<module>\u001b[0;34m\u001b[0m\n\u001b[0;32m----> 1\u001b[0;31m \u001b[0mSL1\u001b[0m \u001b[0;34m=\u001b[0m \u001b[0mStudentList\u001b[0m\u001b[0;34m(\u001b[0m\u001b[0mRecipe1\u001b[0m\u001b[0;34m.\u001b[0m\u001b[0mmeal\u001b[0m\u001b[0;34m)\u001b[0m\u001b[0;34m\u001b[0m\u001b[0;34m\u001b[0m\u001b[0m\n\u001b[0m",
      "\u001b[0;31mTypeError\u001b[0m: __init__() takes 1 positional argument but 2 were given"
     ]
    }
   ],
   "source": [
    "SL1 = StudentList(Recipe1.meal)"
   ]
  },
  {
   "cell_type": "code",
   "execution_count": 44,
   "metadata": {},
   "outputs": [],
   "source": [
    "class Cookbook():\n",
    "    def __init__(self,RecipeList=[]):\n",
    "        self.RecipeList = [Recipe1, Recipe2, Recipe3, Recipe4, Recipe5]\n",
    "        \n",
    "    def get_meal_type(self):\n",
    "        if recipe.type == meal_type\n",
    "        then run \n",
    "        for \n",
    "        \n",
    "        str(RecipeList.meal)"
   ]
  },
  {
   "cell_type": "code",
   "execution_count": 45,
   "metadata": {},
   "outputs": [
    {
     "data": {
      "text/plain": [
       "<__main__.Cookbook at 0x7fc5b0031eb0>"
      ]
     },
     "execution_count": 45,
     "metadata": {},
     "output_type": "execute_result"
    }
   ],
   "source": [
    "Cookbook(\"Recipe1\")"
   ]
  },
  {
   "cell_type": "code",
   "execution_count": null,
   "metadata": {},
   "outputs": [],
   "source": [
    "s1 = Recipe(\"Michael\",\"Jackson\",\"QMSS\")\n",
    "s2 = Student(\"Barack\",\"Obama\",\"Law\")\n",
    "mylist = StudentList()\n",
    "mylist.add(s1)\n",
    "mylist.add(s2)\n",
    "print(mylist)"
   ]
  },
  {
   "cell_type": "code",
   "execution_count": 46,
   "metadata": {},
   "outputs": [],
   "source": [
    "class Cookbook:\n",
    "    \"\"\" Class to hold list of Student objects \"\"\"\n",
    "    def __init__(self):\n",
    "        self.RecipeList = []\n",
    "\n",
    "    def add(self, recipe):\n",
    "        self.RecipeList.append(recipe)\n",
    "\n",
    "    def get_meal_type(self):\n",
    "         return Recip1.meal\n",
    "       # meal_type = \"\"\n",
    "        #for recipe in self.RecipeList:\n",
    "         #   meal_type = \n",
    "       # return temp"
   ]
  },
  {
   "cell_type": "code",
   "execution_count": 35,
   "metadata": {},
   "outputs": [
    {
     "ename": "TypeError",
     "evalue": "__init__() takes 1 positional argument but 2 were given",
     "output_type": "error",
     "traceback": [
      "\u001b[0;31m---------------------------------------------------------------------------\u001b[0m",
      "\u001b[0;31mTypeError\u001b[0m                                 Traceback (most recent call last)",
      "\u001b[0;32m<ipython-input-35-14d6a7dfd32f>\u001b[0m in \u001b[0;36m<module>\u001b[0;34m\u001b[0m\n\u001b[0;32m----> 1\u001b[0;31m \u001b[0mCookbook2\u001b[0m \u001b[0;34m=\u001b[0m \u001b[0mCookbook\u001b[0m\u001b[0;34m(\u001b[0m\u001b[0mRecipe2\u001b[0m\u001b[0;34m)\u001b[0m\u001b[0;34m\u001b[0m\u001b[0;34m\u001b[0m\u001b[0m\n\u001b[0m",
      "\u001b[0;31mTypeError\u001b[0m: __init__() takes 1 positional argument but 2 were given"
     ]
    }
   ],
   "source": [
    "Cookbook2 = Cookbook(Recipe2)"
   ]
  },
  {
   "cell_type": "code",
   "execution_count": 27,
   "metadata": {},
   "outputs": [
    {
     "ename": "AttributeError",
     "evalue": "'Recipe' object has no attribute 'get_meal_type'",
     "output_type": "error",
     "traceback": [
      "\u001b[0;31m---------------------------------------------------------------------------\u001b[0m",
      "\u001b[0;31mAttributeError\u001b[0m                            Traceback (most recent call last)",
      "\u001b[0;32m<ipython-input-27-320b72b13ad1>\u001b[0m in \u001b[0;36m<module>\u001b[0;34m\u001b[0m\n\u001b[0;32m----> 1\u001b[0;31m \u001b[0mRecipe2\u001b[0m\u001b[0;34m.\u001b[0m\u001b[0mget_meal_type\u001b[0m\u001b[0;34m(\u001b[0m\u001b[0;34m)\u001b[0m\u001b[0;34m\u001b[0m\u001b[0;34m\u001b[0m\u001b[0m\n\u001b[0m",
      "\u001b[0;31mAttributeError\u001b[0m: 'Recipe' object has no attribute 'get_meal_type'"
     ]
    }
   ],
   "source": [
    "Recipe2.get_meal_type()"
   ]
  },
  {
   "cell_type": "code",
   "execution_count": 29,
   "metadata": {},
   "outputs": [
    {
     "ename": "NameError",
     "evalue": "name 'RecipeList' is not defined",
     "output_type": "error",
     "traceback": [
      "\u001b[0;31m---------------------------------------------------------------------------\u001b[0m",
      "\u001b[0;31mNameError\u001b[0m                                 Traceback (most recent call last)",
      "\u001b[0;32m<ipython-input-29-9749adc978bd>\u001b[0m in \u001b[0;36m<module>\u001b[0;34m\u001b[0m\n\u001b[0;32m----> 1\u001b[0;31m \u001b[0mprint\u001b[0m\u001b[0;34m(\u001b[0m\u001b[0mRecipeList\u001b[0m\u001b[0;34m)\u001b[0m\u001b[0;34m\u001b[0m\u001b[0;34m\u001b[0m\u001b[0m\n\u001b[0m",
      "\u001b[0;31mNameError\u001b[0m: name 'RecipeList' is not defined"
     ]
    }
   ],
   "source": [
    "print(RecipeList)"
   ]
  },
  {
   "cell_type": "code",
   "execution_count": null,
   "metadata": {},
   "outputs": [],
   "source": []
  }
 ],
 "metadata": {
  "kernelspec": {
   "display_name": "Python 3",
   "language": "python",
   "name": "python3"
  },
  "language_info": {
   "codemirror_mode": {
    "name": "ipython",
    "version": 3
   },
   "file_extension": ".py",
   "mimetype": "text/x-python",
   "name": "python",
   "nbconvert_exporter": "python",
   "pygments_lexer": "ipython3",
   "version": "3.8.5"
  }
 },
 "nbformat": 4,
 "nbformat_minor": 4
}
